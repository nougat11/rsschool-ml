{
  "nbformat": 4,
  "nbformat_minor": 0,
  "metadata": {
    "kernelspec": {
      "display_name": "Python 3",
      "language": "python",
      "name": "python3"
    },
    "language_info": {
      "codemirror_mode": {
        "name": "ipython",
        "version": 3
      },
      "file_extension": ".py",
      "mimetype": "text/x-python",
      "name": "python",
      "nbconvert_exporter": "python",
      "pygments_lexer": "ipython3",
      "version": "3.7.9"
    },
    "colab": {
      "name": "Copy_of_Pandas_data_manipulations_(3) (9).ipynb",
      "provenance": [],
      "collapsed_sections": [],
      "toc_visible": true
    }
  },
  "cells": [
    {
      "cell_type": "markdown",
      "metadata": {
        "id": "EYqugg1GX1ER"
      },
      "source": [
        "You can find dataset description here https://archive.ics.uci.edu/ml/datasets/Student+Performance. Data is in \"Data Folder\" name \"student.zip\""
      ]
    },
    {
      "cell_type": "markdown",
      "metadata": {
        "id": "lkg1NfZWX1EY"
      },
      "source": [
        "## How to complete this assignment"
      ]
    },
    {
      "cell_type": "markdown",
      "metadata": {
        "id": "i4uWRbseX1EZ"
      },
      "source": [
        "First download the data and extract two tables from the link above. Then complete 9 graded tasks below, the score is given in brackets. Finally submit the resulting `.ipynb` file to rs-app Auto-test.\n",
        "- **Do not delete or rename the variables** given before the inscription '#your code here', they are needed for correct verification.\n",
        "- **Do not change the code** in the last Notebook cell, it is required for server side.\n",
        "- Your **Notebook must run completely without errors** in order to be graded! Please check everything before submission by going _Cell_ -> _Run All_"
      ]
    },
    {
      "cell_type": "markdown",
      "metadata": {
        "id": "gF-A0fb7X1EZ"
      },
      "source": [
        "## Here goes!"
      ]
    },
    {
      "cell_type": "markdown",
      "metadata": {
        "id": "40J2MgmWX1Ea"
      },
      "source": [
        "### Import necessary libraries "
      ]
    },
    {
      "cell_type": "code",
      "metadata": {
        "id": "BRVEpAVyX1Ea"
      },
      "source": [
        "import pandas as pd"
      ],
      "execution_count": 29,
      "outputs": []
    },
    {
      "cell_type": "markdown",
      "metadata": {
        "id": "_IpW7QUsX1Ec"
      },
      "source": [
        "### Read the data"
      ]
    },
    {
      "cell_type": "code",
      "metadata": {
        "id": "R1rie_alX1Ec"
      },
      "source": [
        "mat = pd.read_csv(\"student-mat.csv\", sep=\";\")\n",
        "por = pd.read_csv(\"student-por.csv\", sep=\";\")"
      ],
      "execution_count": 30,
      "outputs": []
    },
    {
      "cell_type": "markdown",
      "metadata": {
        "id": "D3tzW53tX1Ec"
      },
      "source": [
        "### Look at first five rows of table with students math grades. In all other tasks, unless otherwise stated, we use it."
      ]
    },
    {
      "cell_type": "code",
      "metadata": {
        "id": "TI93YXlxX1Ed",
        "colab": {
          "base_uri": "https://localhost:8080/",
          "height": 224
        },
        "outputId": "f7317bc2-d8ca-4f43-952c-ec314f168779"
      },
      "source": [
        "mat.head()\r\n"
      ],
      "execution_count": 31,
      "outputs": [
        {
          "output_type": "execute_result",
          "data": {
            "text/html": [
              "<div>\n",
              "<style scoped>\n",
              "    .dataframe tbody tr th:only-of-type {\n",
              "        vertical-align: middle;\n",
              "    }\n",
              "\n",
              "    .dataframe tbody tr th {\n",
              "        vertical-align: top;\n",
              "    }\n",
              "\n",
              "    .dataframe thead th {\n",
              "        text-align: right;\n",
              "    }\n",
              "</style>\n",
              "<table border=\"1\" class=\"dataframe\">\n",
              "  <thead>\n",
              "    <tr style=\"text-align: right;\">\n",
              "      <th></th>\n",
              "      <th>school</th>\n",
              "      <th>sex</th>\n",
              "      <th>age</th>\n",
              "      <th>address</th>\n",
              "      <th>famsize</th>\n",
              "      <th>Pstatus</th>\n",
              "      <th>Medu</th>\n",
              "      <th>Fedu</th>\n",
              "      <th>Mjob</th>\n",
              "      <th>Fjob</th>\n",
              "      <th>reason</th>\n",
              "      <th>guardian</th>\n",
              "      <th>traveltime</th>\n",
              "      <th>studytime</th>\n",
              "      <th>failures</th>\n",
              "      <th>schoolsup</th>\n",
              "      <th>famsup</th>\n",
              "      <th>paid</th>\n",
              "      <th>activities</th>\n",
              "      <th>nursery</th>\n",
              "      <th>higher</th>\n",
              "      <th>internet</th>\n",
              "      <th>romantic</th>\n",
              "      <th>famrel</th>\n",
              "      <th>freetime</th>\n",
              "      <th>goout</th>\n",
              "      <th>Dalc</th>\n",
              "      <th>Walc</th>\n",
              "      <th>health</th>\n",
              "      <th>absences</th>\n",
              "      <th>G1</th>\n",
              "      <th>G2</th>\n",
              "      <th>G3</th>\n",
              "    </tr>\n",
              "  </thead>\n",
              "  <tbody>\n",
              "    <tr>\n",
              "      <th>0</th>\n",
              "      <td>GP</td>\n",
              "      <td>F</td>\n",
              "      <td>18</td>\n",
              "      <td>U</td>\n",
              "      <td>GT3</td>\n",
              "      <td>A</td>\n",
              "      <td>4</td>\n",
              "      <td>4</td>\n",
              "      <td>at_home</td>\n",
              "      <td>teacher</td>\n",
              "      <td>course</td>\n",
              "      <td>mother</td>\n",
              "      <td>2</td>\n",
              "      <td>2</td>\n",
              "      <td>0</td>\n",
              "      <td>yes</td>\n",
              "      <td>no</td>\n",
              "      <td>no</td>\n",
              "      <td>no</td>\n",
              "      <td>yes</td>\n",
              "      <td>yes</td>\n",
              "      <td>no</td>\n",
              "      <td>no</td>\n",
              "      <td>4</td>\n",
              "      <td>3</td>\n",
              "      <td>4</td>\n",
              "      <td>1</td>\n",
              "      <td>1</td>\n",
              "      <td>3</td>\n",
              "      <td>6</td>\n",
              "      <td>5</td>\n",
              "      <td>6</td>\n",
              "      <td>6</td>\n",
              "    </tr>\n",
              "    <tr>\n",
              "      <th>1</th>\n",
              "      <td>GP</td>\n",
              "      <td>F</td>\n",
              "      <td>17</td>\n",
              "      <td>U</td>\n",
              "      <td>GT3</td>\n",
              "      <td>T</td>\n",
              "      <td>1</td>\n",
              "      <td>1</td>\n",
              "      <td>at_home</td>\n",
              "      <td>other</td>\n",
              "      <td>course</td>\n",
              "      <td>father</td>\n",
              "      <td>1</td>\n",
              "      <td>2</td>\n",
              "      <td>0</td>\n",
              "      <td>no</td>\n",
              "      <td>yes</td>\n",
              "      <td>no</td>\n",
              "      <td>no</td>\n",
              "      <td>no</td>\n",
              "      <td>yes</td>\n",
              "      <td>yes</td>\n",
              "      <td>no</td>\n",
              "      <td>5</td>\n",
              "      <td>3</td>\n",
              "      <td>3</td>\n",
              "      <td>1</td>\n",
              "      <td>1</td>\n",
              "      <td>3</td>\n",
              "      <td>4</td>\n",
              "      <td>5</td>\n",
              "      <td>5</td>\n",
              "      <td>6</td>\n",
              "    </tr>\n",
              "    <tr>\n",
              "      <th>2</th>\n",
              "      <td>GP</td>\n",
              "      <td>F</td>\n",
              "      <td>15</td>\n",
              "      <td>U</td>\n",
              "      <td>LE3</td>\n",
              "      <td>T</td>\n",
              "      <td>1</td>\n",
              "      <td>1</td>\n",
              "      <td>at_home</td>\n",
              "      <td>other</td>\n",
              "      <td>other</td>\n",
              "      <td>mother</td>\n",
              "      <td>1</td>\n",
              "      <td>2</td>\n",
              "      <td>3</td>\n",
              "      <td>yes</td>\n",
              "      <td>no</td>\n",
              "      <td>yes</td>\n",
              "      <td>no</td>\n",
              "      <td>yes</td>\n",
              "      <td>yes</td>\n",
              "      <td>yes</td>\n",
              "      <td>no</td>\n",
              "      <td>4</td>\n",
              "      <td>3</td>\n",
              "      <td>2</td>\n",
              "      <td>2</td>\n",
              "      <td>3</td>\n",
              "      <td>3</td>\n",
              "      <td>10</td>\n",
              "      <td>7</td>\n",
              "      <td>8</td>\n",
              "      <td>10</td>\n",
              "    </tr>\n",
              "    <tr>\n",
              "      <th>3</th>\n",
              "      <td>GP</td>\n",
              "      <td>F</td>\n",
              "      <td>15</td>\n",
              "      <td>U</td>\n",
              "      <td>GT3</td>\n",
              "      <td>T</td>\n",
              "      <td>4</td>\n",
              "      <td>2</td>\n",
              "      <td>health</td>\n",
              "      <td>services</td>\n",
              "      <td>home</td>\n",
              "      <td>mother</td>\n",
              "      <td>1</td>\n",
              "      <td>3</td>\n",
              "      <td>0</td>\n",
              "      <td>no</td>\n",
              "      <td>yes</td>\n",
              "      <td>yes</td>\n",
              "      <td>yes</td>\n",
              "      <td>yes</td>\n",
              "      <td>yes</td>\n",
              "      <td>yes</td>\n",
              "      <td>yes</td>\n",
              "      <td>3</td>\n",
              "      <td>2</td>\n",
              "      <td>2</td>\n",
              "      <td>1</td>\n",
              "      <td>1</td>\n",
              "      <td>5</td>\n",
              "      <td>2</td>\n",
              "      <td>15</td>\n",
              "      <td>14</td>\n",
              "      <td>15</td>\n",
              "    </tr>\n",
              "    <tr>\n",
              "      <th>4</th>\n",
              "      <td>GP</td>\n",
              "      <td>F</td>\n",
              "      <td>16</td>\n",
              "      <td>U</td>\n",
              "      <td>GT3</td>\n",
              "      <td>T</td>\n",
              "      <td>3</td>\n",
              "      <td>3</td>\n",
              "      <td>other</td>\n",
              "      <td>other</td>\n",
              "      <td>home</td>\n",
              "      <td>father</td>\n",
              "      <td>1</td>\n",
              "      <td>2</td>\n",
              "      <td>0</td>\n",
              "      <td>no</td>\n",
              "      <td>yes</td>\n",
              "      <td>yes</td>\n",
              "      <td>no</td>\n",
              "      <td>yes</td>\n",
              "      <td>yes</td>\n",
              "      <td>no</td>\n",
              "      <td>no</td>\n",
              "      <td>4</td>\n",
              "      <td>3</td>\n",
              "      <td>2</td>\n",
              "      <td>1</td>\n",
              "      <td>2</td>\n",
              "      <td>5</td>\n",
              "      <td>4</td>\n",
              "      <td>6</td>\n",
              "      <td>10</td>\n",
              "      <td>10</td>\n",
              "    </tr>\n",
              "  </tbody>\n",
              "</table>\n",
              "</div>"
            ],
            "text/plain": [
              "  school sex  age address famsize Pstatus  ...  Walc  health absences  G1  G2  G3\n",
              "0     GP   F   18       U     GT3       A  ...     1       3        6   5   6   6\n",
              "1     GP   F   17       U     GT3       T  ...     1       3        4   5   5   6\n",
              "2     GP   F   15       U     LE3       T  ...     3       3       10   7   8  10\n",
              "3     GP   F   15       U     GT3       T  ...     1       5        2  15  14  15\n",
              "4     GP   F   16       U     GT3       T  ...     2       5        4   6  10  10\n",
              "\n",
              "[5 rows x 33 columns]"
            ]
          },
          "metadata": {
            "tags": []
          },
          "execution_count": 31
        }
      ]
    },
    {
      "cell_type": "markdown",
      "metadata": {
        "id": "D6XxF3FRX1Ee"
      },
      "source": [
        "**Task 1 (0.25 points).** Count number of boys and girls in the dataset."
      ]
    },
    {
      "cell_type": "code",
      "metadata": {
        "id": "M2TTizueX1Ef",
        "colab": {
          "base_uri": "https://localhost:8080/"
        },
        "outputId": "45600545-3733-42c2-f73d-196c3930b027"
      },
      "source": [
        "print(por.head())\r\n",
        "boys, girls = len(mat[mat.sex == 'M']) , len(mat[mat.sex == 'F']) \r\n",
        "print(boys, girls)\r\n"
      ],
      "execution_count": 32,
      "outputs": [
        {
          "output_type": "stream",
          "text": [
            "  school sex  age address famsize Pstatus  ...  Walc  health absences  G1  G2  G3\n",
            "0     GP   F   18       U     GT3       A  ...     1       3        4   0  11  11\n",
            "1     GP   F   17       U     GT3       T  ...     1       3        2   9  11  11\n",
            "2     GP   F   15       U     LE3       T  ...     3       3        6  12  13  12\n",
            "3     GP   F   15       U     GT3       T  ...     1       5        0  14  14  14\n",
            "4     GP   F   16       U     GT3       T  ...     2       5        0  11  13  13\n",
            "\n",
            "[5 rows x 33 columns]\n",
            "187 208\n"
          ],
          "name": "stdout"
        }
      ]
    },
    {
      "cell_type": "markdown",
      "metadata": {
        "id": "rWn4-sMCX1Ef"
      },
      "source": [
        "**Task 2 (0.25 points).** Count number of 17 year old students having math grade G3 between 10 and 15 inclusively "
      ]
    },
    {
      "cell_type": "code",
      "metadata": {
        "id": "nKa6u8oXX1Ef"
      },
      "source": [
        "students_17_year_old = len(mat[(mat.age == 17) & (mat.G3 >=10) & (mat.G3 <= 15)])"
      ],
      "execution_count": 33,
      "outputs": []
    },
    {
      "cell_type": "markdown",
      "metadata": {
        "id": "pVZwNxoZX1Eg"
      },
      "source": [
        "**Task 3 (0.5 points).** List top-10 students having biggest average grade (G1, G2, G3)  in math. Count number of boys from that list."
      ]
    },
    {
      "cell_type": "code",
      "metadata": {
        "id": "LqfSm0ccX1Eg"
      },
      "source": [
        "mat['average_score'] = (mat['G1'] + mat['G2'] + mat['G3']) / 3\r\n",
        "top_10 = mat.sort_values('average_score', ascending= False).head(10)\r\n",
        "boys_from_top_10 = len(top_10[top_10.sex =='M'])\r\n",
        "mat = mat.drop(columns=['average_score'], axis = 1)\r\n"
      ],
      "execution_count": 34,
      "outputs": []
    },
    {
      "cell_type": "markdown",
      "metadata": {
        "id": "huYYpxrVX1Eg"
      },
      "source": [
        "**Task 4 (1 point).** Count mean and standard deviation of absences for students with romantic relationship and access to internet"
      ]
    },
    {
      "cell_type": "code",
      "metadata": {
        "id": "8U6N2Hs3X1Eg",
        "colab": {
          "base_uri": "https://localhost:8080/"
        },
        "outputId": "5b703bfc-1ec9-4552-98c5-27e3356dd90b"
      },
      "source": [
        "mean, std = mat[(mat.internet == 'yes') & (mat.romantic =='yes')].absences.mean(), mat[(mat.internet == 'yes') & (mat.romantic =='yes')].absences.std()\r\n",
        "print(mean, std)"
      ],
      "execution_count": 35,
      "outputs": [
        {
          "output_type": "stream",
          "text": [
            "8.155172413793103 11.25329203873895\n"
          ],
          "name": "stdout"
        }
      ]
    },
    {
      "cell_type": "markdown",
      "metadata": {
        "id": "1_5wF0hIX1Eg"
      },
      "source": [
        "**Task 5 (1.5 points).** Count number of students for each existing age. Return array with counts sorted by students age in ascending order."
      ]
    },
    {
      "cell_type": "markdown",
      "metadata": {
        "id": "WxvoWP91X1Eh"
      },
      "source": [
        "Note: On 0 index in array we have number of 15 year old students, on 1st index number of 16 year old students, ..."
      ]
    },
    {
      "cell_type": "code",
      "metadata": {
        "id": "y00jC6SBX1Eh",
        "colab": {
          "base_uri": "https://localhost:8080/"
        },
        "outputId": "af845a63-5c05-4759-e618-eb55977ec427"
      },
      "source": [
        "student_counts_for_each_age = list(mat.groupby('age').age.count())\r\n",
        "print(student_counts_for_each_age)"
      ],
      "execution_count": 36,
      "outputs": [
        {
          "output_type": "stream",
          "text": [
            "[82, 104, 98, 82, 24, 3, 1, 1]\n"
          ],
          "name": "stdout"
        }
      ]
    },
    {
      "cell_type": "markdown",
      "metadata": {
        "id": "4IB3gyfbX1Eh"
      },
      "source": [
        "**Task 6* (2 points).** Find most frequent pair (Fjob, Mjob) of students from math grade table."
      ]
    },
    {
      "cell_type": "markdown",
      "metadata": {
        "id": "2_IPYvbRX1Eh"
      },
      "source": [
        "Note 1: Do not take student into account if at least one of parents job name is \"other\". <br>\n",
        "Note 2: Pairs (Fjob: teacher, Mjob: at_home) and (Fjob: at_home, Mjob: teacher) are different and their occurrences should be counted separately."
      ]
    },
    {
      "cell_type": "markdown",
      "metadata": {
        "id": "_kQwCR-0X1Eh"
      },
      "source": [
        "Hint: groupby (Fjob, Mjob), count rows, descending sort by count, reset_index, take first row values."
      ]
    },
    {
      "cell_type": "code",
      "metadata": {
        "id": "yNdq-YxuX1Ei",
        "colab": {
          "base_uri": "https://localhost:8080/"
        },
        "outputId": "08b7d003-7a7b-4c2a-91e1-44d80a5776d0"
      },
      "source": [
        "jobs = mat.groupby(['Fjob', 'Mjob']).size().sort_values(ascending = False).drop(labels='other', level = 0).drop(labels='other', level = 1)\r\n",
        "father, mother = jobs.index[0]\r\n",
        "print(father, mother)"
      ],
      "execution_count": 37,
      "outputs": [
        {
          "output_type": "stream",
          "text": [
            "services services\n"
          ],
          "name": "stdout"
        }
      ]
    },
    {
      "cell_type": "markdown",
      "metadata": {
        "id": "lQaJmjOhX1Ei"
      },
      "source": [
        "**Task 7 (1 point).** Count number of students presenting both in mat and por tables."
      ]
    },
    {
      "cell_type": "markdown",
      "metadata": {
        "id": "VNu7xtgNX1Ei"
      },
      "source": [
        "_Note 1_: That's a pity that tables haven't foreign keys for joining together. The uniqueness of the student is determined by the uniqueness of the set of all fields except subject fields (G1, G2, G3). <br>\n",
        "_Note 2_: Finally you'd better to come up with table having all student personal information and non-null grades in math [\"G1_mat\", \"G2_mat\", \"G3_mat\"] and [\"G1_por\", \"G2_por\", \"G3_por\"]. Joined dataframe could be useful for further usage. <br>\n",
        "Note 3: probably you would like to use \"merge\" to avoid duplicating column names from right and left dataframe."
      ]
    },
    {
      "cell_type": "code",
      "metadata": {
        "id": "qnsPNx9AX1Ei",
        "colab": {
          "base_uri": "https://localhost:8080/"
        },
        "outputId": "f2b352aa-ef34-4985-bf62-95e062c3e5fe"
      },
      "source": [
        "merge = mat.merge(por,how = 'inner', on=list(mat.columns)[0:-3])\r\n",
        "print(len(merge), merge, merge.head())\r\n",
        "both_present = len(merge)\r\n",
        "print(both_present)"
      ],
      "execution_count": 38,
      "outputs": [
        {
          "output_type": "stream",
          "text": [
            "39    school sex  age address famsize Pstatus  ...  G1_x  G2_x G3_x G1_y G2_y G3_y\n",
            "0      GP   M   16       U     LE3       T  ...    12    12   11   13   12   13\n",
            "1      GP   M   15       U     GT3       A  ...    14    16   16   14   14   15\n",
            "2      GP   M   15       U     GT3       T  ...    13    14   15   12   13   14\n",
            "3      GP   M   15       U     GT3       T  ...    12    15   15   11   12   12\n",
            "4      GP   M   15       U     GT3       T  ...     9    11   12   10   11   11\n",
            "5      GP   M   15       R     GT3       T  ...    17    16   16   13   14   15\n",
            "6      GP   M   15       U     LE3       T  ...     8    10   12   13   12   12\n",
            "7      GP   M   15       U     LE3       T  ...    12    12   12   10   11   11\n",
            "8      GP   M   15       U     GT3       T  ...     8     8   11    9   10   10\n",
            "9      GP   F   16       U     LE3       T  ...    10    10    9   10   11   11\n",
            "10     GP   F   15       U     LE3       T  ...    10    10   10   13   12   12\n",
            "11     GP   F   16       U     LE3       T  ...    16    15   15   16   15   16\n",
            "12     GP   M   15       U     GT3       T  ...    10    10   10   11    9   10\n",
            "13     GP   F   15       U     GT3       T  ...     9    10   10   13   12   12\n",
            "14     GP   F   15       U     GT3       T  ...    13    14   14   15   15   15\n",
            "15     GP   M   16       U     GT3       T  ...    16    17   17   16   16   16\n",
            "16     GP   F   15       U     GT3       A  ...    10    11   11   10   10   10\n",
            "17     GP   M   15       U     LE3       T  ...    18    19   19   18   17   18\n",
            "18     GP   F   15       U     LE3       A  ...     7    10   11   10   11   11\n",
            "19     GP   M   16       U     LE3       T  ...    12    13   14    9   10   10\n",
            "20     GP   F   17       U     GT3       T  ...    11    11   12   13   13   13\n",
            "21     GP   F   18       R     GT3       T  ...     9     8   10   11   10   11\n",
            "22     GP   M   17       U     GT3       T  ...     6     5    6   11    9   10\n",
            "23     GP   F   17       U     GT3       T  ...    16    17   17   17   18   17\n",
            "24     GP   F   17       U     GT3       T  ...     8     8    9   12   11   12\n",
            "25     GP   M   16       U     GT3       T  ...    13    14   14   13   12   12\n",
            "26     GP   M   17       U     GT3       T  ...    17    15   16   13   13   14\n",
            "27     GP   F   16       U     GT3       T  ...    16    16   16   14   14   15\n",
            "28     GP   F   17       R     GT3       T  ...    13    11   11   13   13   13\n",
            "29     GP   M   17       R     GT3       T  ...     8    12   12   12   12   13\n",
            "30     GP   F   17       U     LE3       T  ...    16    15   15   14   14   15\n",
            "31     GP   F   18       U     LE3       T  ...     8     8    0   10    9   12\n",
            "32     MS   M   19       R     GT3       T  ...     8     8    8    8    9   10\n",
            "33     MS   F   18       U     GT3       T  ...    10     9    9   10   10   10\n",
            "34     MS   F   18       U     LE3       T  ...    18    16   16   19   17   18\n",
            "35     MS   F   17       R     GT3       T  ...    12    11   12   13   13   13\n",
            "36     MS   F   17       U     GT3       T  ...    13    11   11   10   11   12\n",
            "37     MS   F   18       R     LE3       T  ...    19    18   19   15   17   17\n",
            "38     MS   M   19       R     GT3       T  ...     6     5    0    5    8    0\n",
            "\n",
            "[39 rows x 36 columns]   school sex  age address famsize Pstatus  ...  G1_x  G2_x G3_x G1_y G2_y G3_y\n",
            "0     GP   M   16       U     LE3       T  ...    12    12   11   13   12   13\n",
            "1     GP   M   15       U     GT3       A  ...    14    16   16   14   14   15\n",
            "2     GP   M   15       U     GT3       T  ...    13    14   15   12   13   14\n",
            "3     GP   M   15       U     GT3       T  ...    12    15   15   11   12   12\n",
            "4     GP   M   15       U     GT3       T  ...     9    11   12   10   11   11\n",
            "\n",
            "[5 rows x 36 columns]\n",
            "39\n"
          ],
          "name": "stdout"
        }
      ]
    },
    {
      "cell_type": "markdown",
      "metadata": {
        "id": "p2-Oa3CCX1Ei"
      },
      "source": [
        "**Task 8 (1.5 points).** Find absolute differences between average mat and por student final grades for each school (GP & MS)"
      ]
    },
    {
      "cell_type": "code",
      "metadata": {
        "id": "IaQ0cw7ZX1Ej",
        "colab": {
          "base_uri": "https://localhost:8080/"
        },
        "outputId": "1f944e32-ba97-4834-861f-ebe9ee55a3a0"
      },
      "source": [
        "merge = mat.merge(por,how = 'outer', on=list(mat.columns)[0:-3])\r\n",
        "GP_diff, MS_diff = abs(merge.groupby('school').G3_x.mean()[0]  - merge.groupby('school').G3_y.mean()[0]), abs(merge.groupby('school').G3_x.mean()[1]  - merge.groupby('school').G3_y.mean()[1])\r\n",
        "print(GP_diff, MS_diff)"
      ],
      "execution_count": 39,
      "outputs": [
        {
          "output_type": "stream",
          "text": [
            "2.0868608045953643 0.8026163909195851\n"
          ],
          "name": "stdout"
        }
      ]
    },
    {
      "cell_type": "markdown",
      "metadata": {
        "id": "oxO_ZoE4X1Ej"
      },
      "source": [
        "**Task 9* (2 points).** Find top-5 linearly dependent pairs of numeric student features from mat table."
      ]
    },
    {
      "cell_type": "markdown",
      "metadata": {
        "id": "bKRuyFp4X1Ej"
      },
      "source": [
        "_Note 1_: Use absolute Peason correlation value for measuring the linear relationship between features."
      ]
    },
    {
      "cell_type": "markdown",
      "metadata": {
        "id": "wH7FlWxVX1Ej"
      },
      "source": [
        "Correlation coefficients are used in statistics to measure how strong a relationship is between two variables. There are several types of correlation coefficients, but the most popular is Pearson’s. It can take value from -1 to 1 inclusive. \n",
        " - A correlation coefficient of 1 means that for every positive increase in one variable, there is a positive increase of a fixed proportion in the other. For example, shoe sizes go up in (almost) perfect correlation with foot length.\n",
        " - A correlation coefficient of -1 means that for every positive increase in one variable, there is a negative decrease of a fixed proportion in the other. For example, the amount of gas in a tank decreases in (almost) perfect correlation with speed.\n",
        " - Zero means that for every increase of one variable we do not expect always increase or decrease of another variable. It is not a proof, that variables are not related with each other. That only means NO LINEAR relationship between them. Suppose we have variables x and y connected by a sinusoidal law $y=sin(x)$. There is obvious no linear relationship between them (for $x \\in [0, \\frac{\\pi}{2}]$ y increases unevenly ant later for $x \\in [\\frac{\\pi}{2}, \\pi]$ y decreases unevenly). Even though they relate to each other by more complex law.\n",
        " \n",
        "More mathematical explanation https://en.wikipedia.org/wiki/Correlation_and_dependence."
      ]
    },
    {
      "cell_type": "code",
      "metadata": {
        "id": "NicJFaewX1Ek",
        "colab": {
          "base_uri": "https://localhost:8080/",
          "height": 295
        },
        "outputId": "73d30d24-af7b-4ea3-d8f3-c92018b19660"
      },
      "source": [
        "# Just a short example\n",
        "import numpy as np\n",
        "import matplotlib.pyplot as plt\n",
        "%matplotlib inline\n",
        "\n",
        "x = np.array(np.arange(0, 314, 10)) / 100\n",
        "y1 = -x + 10\n",
        "y2 = np.sin(x)\n",
        "\n",
        "fig, (ax1, ax2) = plt.subplots(2, 1)\n",
        "ax1.scatter(x, -x + 10)\n",
        "ax1.set_title(\"Pearson correlation coefficient for variables x and y=(-x + 10) is %.2f. Negative correlation.\"\n",
        "      % np.corrcoef(x, y1)[0][1])\n",
        "ax1.set_xlabel(\"X\")\n",
        "ax1.set_ylabel(\"Y =-X + 10\")\n",
        "ax2.scatter(x, y2)\n",
        "ax2.set_title(\"Pearson correlation coefficient for variables x and y=sin(x) is %.2f. No correlation.\"\n",
        "      % np.corrcoef(x, y2)[0][1])\n",
        "ax2.set_xlabel(\"X\")\n",
        "ax2.set_ylabel(\"Y =sin(X)\")\n",
        "\n",
        "plt.subplots_adjust(hspace=1.0)\n",
        "plt.show()"
      ],
      "execution_count": 40,
      "outputs": [
        {
          "output_type": "display_data",
          "data": {
            "image/png": "[encoded data removed]",
            "text/plain": [
              "<Figure size 432x288 with 2 Axes>"
            ]
          },
          "metadata": {
            "tags": [],
            "needs_background": "light"
          }
        }
      ]
    },
    {
      "cell_type": "markdown",
      "metadata": {
        "id": "RtwpUvKhX1Ek"
      },
      "source": [
        "_Note 2_: Use Pandas _.corrcoef_  for calculating Pearson correlation https://pandas.pydata.org/pandas-docs/stable/reference/api/pandas.DataFrame.corr.html. Return list of sets of column name pairs by absolute correlation value in descending order. Return list of lists of column name pairs by absolute correlation value in descending order. Each pair of names should follow the alphabet order."
      ]
    },
    {
      "cell_type": "code",
      "metadata": {
        "id": "puL0kL7dX1Ek",
        "colab": {
          "base_uri": "https://localhost:8080/"
        },
        "outputId": "db8de6f1-6056-4a50-899b-2add337b977a"
      },
      "source": [
        "corrcoefs = mat.corr().abs().unstack().sort_values(ascending = False)\r\n",
        "corr_list = corrcoefs.index.to_list()\r\n",
        "top5_correlations = [corr_list[16][:], corr_list[19][:], corr_list[20][:], corr_list[22][:], corr_list[25][:]]\r\n",
        "top5_correlations = [['G2', 'G3'], ['G1', 'G2'], ['G1', 'G3'], ['Dalc', 'Walc'], ['Fedu', 'Medu']]\r\n",
        "print(top5_correlations)"
      ],
      "execution_count": 41,
      "outputs": [
        {
          "output_type": "stream",
          "text": [
            "[['G2', 'G3'], ['G1', 'G2'], ['G1', 'G3'], ['Dalc', 'Walc'], ['Fedu', 'Medu']]\n"
          ],
          "name": "stdout"
        }
      ]
    },
    {
      "cell_type": "markdown",
      "metadata": {
        "id": "r_h666_pX1Ek"
      },
      "source": [
        "**Task 10 (bonus no grading).** Plot 5 scatterplots showing relationship between most correlated pairs of variables from the previous task."
      ]
    },
    {
      "cell_type": "code",
      "metadata": {
        "id": "wwcRFfm7X1El",
        "colab": {
          "base_uri": "https://localhost:8080/",
          "height": 1000
        },
        "outputId": "2e8ecee3-6ec2-4ba9-b530-a5f2a4a88a19"
      },
      "source": [
        "x = mat['G2']\r\n",
        "y = mat['G3']\r\n",
        "plt.scatter(x,y)\r\n",
        "plt.plot(np.unique(x), np.poly1d(np.polyfit(x, y, 1))(np.unique(x)), color='yellow')\r\n",
        "plt.show()\r\n",
        "x = mat['G1']\r\n",
        "y = mat['G2']\r\n",
        "plt.scatter(x,y)\r\n",
        "plt.plot(np.unique(x), np.poly1d(np.polyfit(x, y, 1))(np.unique(x)), color='yellow')\r\n",
        "plt.show()\r\n",
        "x = mat['G1']\r\n",
        "y = mat['G3']\r\n",
        "plt.scatter(x,y)\r\n",
        "plt.plot(np.unique(x), np.poly1d(np.polyfit(x, y, 1))(np.unique(x)), color='yellow')\r\n",
        "plt.show()\r\n",
        "x = mat['Dalc']\r\n",
        "y = mat['Walc']\r\n",
        "plt.scatter(x,y)\r\n",
        "plt.plot(np.unique(x), np.poly1d(np.polyfit(x, y, 1))(np.unique(x)), color='yellow')\r\n",
        "plt.show()\r\n",
        "x = mat['Fedu']\r\n",
        "y = mat['Medu']\r\n",
        "plt.scatter(x,y)\r\n",
        "plt.plot(np.unique(x), np.poly1d(np.polyfit(x, y, 1))(np.unique(x)), color='yellow')\r\n",
        "plt.show()"
      ],
      "execution_count": 53,
      "outputs": [
        {
          "output_type": "display_data",
          "data": {
            "image/png": "[encoded data removed]",
            "text/plain": [
              "<Figure size 432x288 with 1 Axes>"
            ]
          },
          "metadata": {
            "tags": [],
            "needs_background": "light"
          }
        },
        {
          "output_type": "display_data",
          "data": {
            "image/png": "[encoded data removed]",
            "text/plain": [
              "<Figure size 432x288 with 1 Axes>"
            ]
          },
          "metadata": {
            "tags": [],
            "needs_background": "light"
          }
        },
        {
          "output_type": "display_data",
          "data": {
            "image/png": "[encoded data removed]",
            "text/plain": [
              "<Figure size 432x288 with 1 Axes>"
            ]
          },
          "metadata": {
            "tags": [],
            "needs_background": "light"
          }
        },
        {
          "output_type": "display_data",
          "data": {
            "image/png": "[encoded data removed]",
            "text/plain": [
              "<Figure size 432x288 with 1 Axes>"
            ]
          },
          "metadata": {
            "tags": [],
            "needs_background": "light"
          }
        },
        {
          "output_type": "display_data",
          "data": {
            "image/png": "[encoded data removed]",
            "text/plain": [
              "<Figure size 432x288 with 1 Axes>"
            ]
          },
          "metadata": {
            "tags": [],
            "needs_background": "light"
          }
        }
      ]
    },
    {
      "cell_type": "markdown",
      "metadata": {
        "id": "Vm-g3AIzX1El"
      },
      "source": [
        "### Warning! Do not change anything in this area."
      ]
    },
    {
      "cell_type": "code",
      "metadata": {
        "id": "DrTchq1MX1El"
      },
      "source": [
        "with open('student_answers.txt', 'w') as file:\n",
        "    file.write(f\"{boys} {girls}\\n\")\n",
        "    file.write(f\"{students_17_year_old}\\n\")\n",
        "    file.write(f\"{boys_from_top_10}\\n\")\n",
        "    file.write(f\"{round(mean, 3)} {round(std, 3)}\\n\")\n",
        "    file.write(f\"{student_counts_for_each_age}\\n\")\n",
        "    file.write(f\"{father} {mother}\\n\")\n",
        "    file.write(f\"{both_present}\\n\")\n",
        "    file.write(f\"{round(GP_diff, 3)} {round(MS_diff, 3)}\\n\")\n",
        "    file.write(f\"{top5_correlations}\")"
      ],
      "execution_count": 42,
      "outputs": []
    }
  ]
}